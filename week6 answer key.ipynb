{
 "cells": [
  {
   "cell_type": "markdown",
   "metadata": {},
   "source": [
    "# Isotopes Fractionation\n",
    "## Answer Key\n",
    "### Kevin Rozmiarek\n",
    "\n",
    "# Questions\n",
    "\n",
    "1. Let me add that the approximate temperature dependence of the fractionation factor for water evaporation in reality follows this expression $\\alpha = 0.9822e^{(7.9448 /T)}$ Show the curve for $\\delta$ value of the liquid as a function of remaining unevaporated liquid. The starting isotope value of the water is $\\delta = -20$‰ and the water is held at 35°C. Why do you think these numbers are so high?\n",
    "\n",
    "Answer: "
   ]
  },
  {
   "cell_type": "code",
   "execution_count": 34,
   "metadata": {},
   "outputs": [
    {
     "name": "stdout",
     "output_type": "stream",
     "text": [
      "    remaining_Water_Fraction  remaining_Delta\n",
      "0                   0.100000      -426.228170\n",
      "1                   0.109091      -414.503146\n",
      "2                   0.118182      -403.505699\n",
      "3                   0.127273      -393.139579\n",
      "4                   0.136364      -383.327091\n",
      "..                       ...              ...\n",
      "95                  0.963636       -28.403142\n",
      "96                  0.972727       -26.279838\n",
      "97                  0.981818       -24.171710\n",
      "98                  0.990909       -22.078511\n",
      "99                  1.000000       -20.000000\n",
      "\n",
      "[100 rows x 2 columns]\n"
     ]
    },
    {
     "data": {
      "image/png": "[encoded data removed]",
      "text/plain": [
       "<Figure size 432x288 with 1 Axes>"
      ]
     },
     "metadata": {
      "needs_background": "light"
     },
     "output_type": "display_data"
    }
   ],
   "source": [
    "import numpy as np\n",
    "import pandas as pd\n",
    "import matplotlib.pyplot as plt\n",
    "import math\n",
    "\n",
    "starting_delta_values = np.linspace(-10., 30., 5)\n",
    "alpha = 0.9822*math.exp(7.9448/35) #Add the dependency on temperature for alpha\n",
    "\n",
    "def remaining_Delta(starting_delta_values, remaining_Water_Fraction, alpha): #Function which calculates the isotope value for the remaining water post-process\n",
    "    remaining_Delta = (starting_delta_values + 1000.) * (remaining_Water_Fraction ** (alpha - 1.)) - 1000. #Application of equation 2\n",
    "    return(remaining_Delta)\n",
    "\n",
    "remaining_Water_Fraction = np.linspace(0.1, 1., 100) \n",
    "\n",
    "calculated_Data = pd.DataFrame(np.array(remaining_Water_Fraction), columns=['remaining_Water_Fraction'])\n",
    "\n",
    "append_Array = remaining_Delta(-20, remaining_Water_Fraction, alpha)\n",
    "calculated_Data['remaining_Delta'] = append_Array \n",
    "\n",
    "print(calculated_Data)\n",
    "\n",
    "remaining_Water_Fraction_Plot = calculated_Data['remaining_Water_Fraction']\n",
    "remaining_Delta_Plot = calculated_Data['remaining_Delta']\n",
    "plt.plot(remaining_Water_Fraction_Plot,remaining_Delta_Plot)\n",
    "plt.ylabel('Starting delta value for 18O of -20 permil at 35 deg C')\n",
    "plt.ylabel('Remaining Water Fraction')\n",
    "plt.show()"
   ]
  },
  {
   "cell_type": "markdown",
   "metadata": {},
   "source": [
    "Example answer: The number is high because reality includes condensation and an experiment that tests for fractionation factor would observe that. Because the process we have approximated to be unidirectional, we consider it a kinetic isotope fractionation.\n",
    "\n",
    "2. Speculate on how you would determine the isotope value for two independent fractionations happening at once.\n",
    "\n",
    "Answer: You could add the factors linearly such as:\n",
    "\n",
    "$$\n",
    "\\delta_{l} = (\\delta_{l,0} + 1000)(f^{\\alpha_{1}-1} + f^{\\alpha_{2}-1}) - 1000\n",
    "$$"
   ]
  },
  {
   "cell_type": "markdown",
   "metadata": {},
   "source": [
    "3. Below is a new vector of some measured starting $\\delta$ data. Modify the if statement in the for loop to be able to handle this tibble and show the resulting dataset. Hint: Think about how we might use the np.isnan(x) catch.\n",
    "\n",
    "Answer:"
   ]
  },
  {
   "cell_type": "code",
   "execution_count": 25,
   "metadata": {},
   "outputs": [
    {
     "name": "stdout",
     "output_type": "stream",
     "text": [
      "    remaining_Water_Fraction      -10.0       20.0       30.0\n",
      "0                   0.100000  13.060062  43.758852  53.991782\n",
      "1                   0.109091  12.178968  42.851058  53.075088\n",
      "2                   0.118182  11.369117  42.016666  52.232516\n",
      "3                   0.127273  10.619889  41.244735  51.453016\n",
      "4                   0.136364   9.922874  40.526598  50.727839\n",
      "..                       ...        ...        ...        ...\n",
      "95                  0.963636  -9.633223  20.377891  30.381596\n",
      "96                  0.972727  -9.726212  20.282085  30.284850\n",
      "97                  0.981818  -9.818327  20.187178  30.189013\n",
      "98                  0.990909  -9.909584  20.093156  30.094069\n",
      "99                  1.000000 -10.000000  20.000000  30.000000\n",
      "\n",
      "[100 rows x 4 columns]\n"
     ]
    }
   ],
   "source": [
    "import numpy as np\n",
    "import pandas as pd\n",
    "\n",
    "measured_Data = np.array([-10., np.nan, 20., 30.])\n",
    "\n",
    "measured_Data_Fixed = measured_Data[~np.isnan(measured_Data)] # Adding the fix for bad data. Not doing the warning because this line will just catch everything\n",
    "\n",
    "alpha = 0.990\n",
    "\n",
    "def remaining_Delta(measured_Data_Fixed, remaining_Water_Fraction, alpha):\n",
    "    remaining_Delta = (measured_Data_Fixed + 1000.) * (remaining_Water_Fraction ** (alpha - 1.)) - 1000. #Application of equation 2\n",
    "    return(remaining_Delta)\n",
    "\n",
    "remaining_Water_Fraction = np.linspace(0.1, 1., 100)\n",
    "\n",
    "calculated_Data = pd.DataFrame(np.array(remaining_Water_Fraction), columns=['remaining_Water_Fraction'])\n",
    "\n",
    "for i in measured_Data_Fixed:\n",
    "    append_Array = remaining_Delta(i, remaining_Water_Fraction, alpha)\n",
    "    calculated_Data[str(i)] = append_Array \n",
    "\n",
    "print(calculated_Data)"
   ]
  },
  {
   "cell_type": "code",
   "execution_count": null,
   "metadata": {},
   "outputs": [],
   "source": []
  }
 ],
 "metadata": {
  "kernelspec": {
   "display_name": "Python 3",
   "language": "python",
   "name": "python3"
  },
  "language_info": {
   "codemirror_mode": {
    "name": "ipython",
    "version": 3
   },
   "file_extension": ".py",
   "mimetype": "text/x-python",
   "name": "python",
   "nbconvert_exporter": "python",
   "pygments_lexer": "ipython3",
   "version": "3.8.3"
  }
 },
 "nbformat": 4,
 "nbformat_minor": 4
}
